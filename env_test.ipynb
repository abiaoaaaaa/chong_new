{
 "cells": [
  {
   "cell_type": "markdown",
   "source": [
    "# 定义函数"
   ],
   "metadata": {
    "collapsed": false
   },
   "id": "7c0adb4a1ec6c7b4"
  },
  {
   "cell_type": "code",
   "execution_count": 3,
   "outputs": [],
   "source": [
    "import numpy as np\n",
    "# 假设你已经正确导入并定义了 ElectricVehicleEnv 环境\n",
    "from env import ElectricVehicleEnv\n",
    "\n",
    "'''\n",
    "测试环境文件编写是否符合逻辑\n",
    "'''\n",
    "\n",
    "def test_environment(env, num_steps=10, seed=42):\n",
    "    \"\"\"\n",
    "    测试环境的功能，打印每一步的状态、奖励和动作信息\n",
    "    :param env: ElectricVehicleEnv 环境\n",
    "    :param num_steps: 测试的步数\n",
    "    :param seed: 随机种子，确保可重复性\n",
    "    \"\"\"\n",
    "    # 设置随机种子\n",
    "    np.random.seed(seed)\n",
    "    env.action_space.seed(seed)\n",
    "\n",
    "    # 重置环境以开始新的回合\n",
    "    state, info = env.reset()\n",
    "    done = False\n",
    "\n",
    "    print(\"Initial State:\")\n",
    "    print_state(state)\n",
    "\n",
    "    # 进行一系列的随机动作，并打印每步信息\n",
    "    for step in range(num_steps):\n",
    "        if done:\n",
    "            print(\"Episode finished!\")\n",
    "            break\n",
    "\n",
    "        # 随机选择一个动作\n",
    "        action = env.action_space.sample()\n",
    "\n",
    "        # 执行该动作，并获取结果\n",
    "        state, reward, done, truncated, info = env.step(action)\n",
    "\n",
    "        print(\"-\" * 30)\n",
    "        print(f\"\\nStep {step + 1}:\")\n",
    "        print(f\"Action Taken: {action}\")\n",
    "        print_step_details(info)\n",
    "        print_state(state)\n",
    "        print(f\"Reward: {reward}\")\n",
    "        print(f\"Done: {done}\")\n",
    "\n",
    "    print(\"\\nTest Finished!\")\n",
    "\n",
    "\n",
    "def print_state(state):\n",
    "    \"\"\"\n",
    "    打印状态的每个属性，并标注其含义。\n",
    "    \"\"\"\n",
    "    #print(f\"  当前节点 (Current Node): {state[0]}\")\n",
    "    print(f\"  当前电池电量 (Battery): {state[-1]}\")\n",
    "    print(f\"  剩余时间 (Remaining Time): {state[-2]}\")\n",
    "    print(\"  其余节点的电量变化、距离变化和时间消耗信息已省略...\")\n",
    "\n",
    "\n",
    "def print_step_details(info):\n",
    "    \"\"\"\n",
    "    打印每个步骤的详细信息。\n",
    "    \"\"\"\n",
    "    print(f\"  从节点 (From Node): {info['from_node']} 到节点 (To Node): {info['to_node']}\")\n",
    "    print(f\"  距离缩短 (Distance_decrease): {info['distance_decrease']} km\")\n",
    "    print(f\"  耗电 (Energy Consumed): {info['energy_consumed']} kWh\")\n",
    "    print(f\"  是否充电 (Charging): {'Yes' if info['charging'] else 'No'}\")\n",
    "    if info['charging']:\n",
    "        print(f\"  充电量 (Energy Charged): {info['energy_charged']} kWh\")\n",
    "    print(f\"  电量从 (Battery Start): {info['battery_start']} kWh 变成 (Battery End): {info['battery_end']} kWh\")\n",
    "    print(f\"  剩余时间从 (Time Start): {info['time_start']} h 变成 (Time End): {info['time_end']} h\")\n",
    "\n"
   ],
   "metadata": {
    "collapsed": false,
    "ExecuteTime": {
     "end_time": "2024-09-11T06:45:39.438008100Z",
     "start_time": "2024-09-11T06:45:39.425252200Z"
    }
   },
   "id": "eccaad6c607c7fee"
  },
  {
   "cell_type": "markdown",
   "source": [
    "# 随机测试"
   ],
   "metadata": {
    "collapsed": false
   },
   "id": "b5d7fc243b6b8536"
  },
  {
   "cell_type": "code",
   "execution_count": 4,
   "outputs": [
    {
     "name": "stdout",
     "output_type": "stream",
     "text": [
      "Initial State:\n",
      "  当前电池电量 (Battery): 39.0\n",
      "  剩余时间 (Remaining Time): 82.9510498046875\n",
      "  其余节点的电量变化、距离变化和时间消耗信息已省略...\n",
      "------------------------------\n",
      "\n",
      "Step 1:\n",
      "Action Taken: 36\n",
      "  从节点 (From Node): 30 到节点 (To Node): 36\n",
      "  距离缩短 (Distance_decrease): -6.733056730000001 km\n",
      "  耗电 (Energy Consumed): 0.92113779537 kWh\n",
      "  是否充电 (Charging): Yes\n",
      "  充电量 (Energy Charged): 17.282134997560973 kWh\n",
      "  电量从 (Battery Start): 39.0 kWh 变成 (Battery End): 55.36099720219097 kWh\n",
      "  剩余时间从 (Time Start): 1.659021022 h 变成 (Time End): 1.4861996720243902 h\n",
      "  当前电池电量 (Battery): 55.36099624633789\n",
      "  剩余时间 (Remaining Time): 74.30998229980469\n",
      "  其余节点的电量变化、距离变化和时间消耗信息已省略...\n",
      "Reward: 36.85408052121886\n",
      "Done: False\n",
      "------------------------------\n",
      "\n",
      "Step 2:\n",
      "Action Taken: 2\n",
      "  从节点 (From Node): 36 到节点 (To Node): 2\n",
      "  距离缩短 (Distance_decrease): 17.494323265 km\n",
      "  耗电 (Energy Consumed): 3.7522071327 kWh\n",
      "  是否充电 (Charging): No\n",
      "  电量从 (Battery Start): 55.36099720219097 kWh 变成 (Battery End): 51.60879006949097 kWh\n",
      "  剩余时间从 (Time Start): 1.4861996720243902 h 变成 (Time End): 0.7266435722875481 h\n",
      "  当前电池电量 (Battery): 51.60879135131836\n",
      "  剩余时间 (Remaining Time): 36.33218002319336\n",
      "  其余节点的电量变化、距离变化和时间消耗信息已省略...\n",
      "Reward: -114.7794510825\n",
      "Done: False\n",
      "------------------------------\n",
      "\n",
      "Step 3:\n",
      "Action Taken: 22\n",
      "  从节点 (From Node): 2 到节点 (To Node): 22\n",
      "  距离缩短 (Distance_decrease): -4.814992575 km\n",
      "  耗电 (Energy Consumed): 1.13718197879 kWh\n",
      "  是否充电 (Charging): Yes\n",
      "  充电量 (Energy Charged): 29.158512276666666 kWh\n",
      "  电量从 (Battery Start): 51.60879006949097 kWh 变成 (Battery End): 79.63012036736764 kWh\n",
      "  剩余时间从 (Time Start): 0.7266435722875481 h 变成 (Time End): 0.4350584495208814 h\n",
      "  当前电池电量 (Battery): 79.63011932373047\n",
      "  剩余时间 (Remaining Time): 21.75292205810547\n",
      "  其余节点的电量变化、距离变化和时间消耗信息已省略...\n",
      "Reward: -41.166594057666146\n",
      "Done: False\n",
      "------------------------------\n",
      "\n",
      "Step 4:\n",
      "Action Taken: 12\n",
      "  从节点 (From Node): 22 到节点 (To Node): 12\n",
      "  距离缩短 (Distance_decrease): -12.239485129999998 km\n",
      "  耗电 (Energy Consumed): 3.4671740284999997 kWh\n",
      "  是否充电 (Charging): No\n",
      "  电量从 (Battery Start): 79.63012036736764 kWh 变成 (Battery End): 76.16294633886764 kWh\n",
      "  剩余时间从 (Time Start): 0.4350584495208814 h 变成 (Time End): -0.21544324438155754 h\n",
      "  当前电池电量 (Battery): 76.16294860839844\n",
      "  剩余时间 (Remaining Time): -10.772162437438965\n",
      "  其余节点的电量变化、距离变化和时间消耗信息已省略...\n",
      "Reward: -8150.583070954\n",
      "Done: True\n",
      "Episode finished!\n",
      "\n",
      "Test Finished!\n"
     ]
    }
   ],
   "source": [
    "\n",
    "# 创建环境实例\n",
    "env = ElectricVehicleEnv()\n",
    "\n",
    "# 测试环境，执行10步随机动作\n",
    "test_environment(env, num_steps=10, seed=285)\n"
   ],
   "metadata": {
    "collapsed": false,
    "ExecuteTime": {
     "end_time": "2024-09-11T06:45:40.484394900Z",
     "start_time": "2024-09-11T06:45:40.423904500Z"
    }
   },
   "id": "initial_id"
  },
  {
   "cell_type": "code",
   "execution_count": null,
   "outputs": [],
   "source": [],
   "metadata": {
    "collapsed": false
   },
   "id": "a3002e525516d4e3"
  }
 ],
 "metadata": {
  "kernelspec": {
   "display_name": "Python 3",
   "language": "python",
   "name": "python3"
  },
  "language_info": {
   "codemirror_mode": {
    "name": "ipython",
    "version": 2
   },
   "file_extension": ".py",
   "mimetype": "text/x-python",
   "name": "python",
   "nbconvert_exporter": "python",
   "pygments_lexer": "ipython2",
   "version": "2.7.6"
  }
 },
 "nbformat": 4,
 "nbformat_minor": 5
}
