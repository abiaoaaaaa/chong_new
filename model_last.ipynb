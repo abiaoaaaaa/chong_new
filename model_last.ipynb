{
 "cells": [
  {
   "cell_type": "markdown",
   "id": "4c1e04a235adcbd8",
   "metadata": {
    "collapsed": false
   },
   "source": [
    "# 测试训练好的模型的决策效果"
   ]
  }
 ],
 "metadata": {
  "kernelspec": {
   "display_name": "py38",
   "language": "python",
   "name": "python3"
  },
  "language_info": {
   "codemirror_mode": {
    "name": "ipython",
    "version": 3
   },
   "file_extension": ".py",
   "mimetype": "text/x-python",
   "name": "python",
   "nbconvert_exporter": "python",
   "pygments_lexer": "ipython3",
   "version": "3.8.19"
  }
 },
 "nbformat": 4,
 "nbformat_minor": 5
}
